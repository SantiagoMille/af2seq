{
 "cells": [
  {
   "cell_type": "markdown",
   "id": "37d83ab6",
   "metadata": {},
   "source": [
    "# AF2Seq"
   ]
  },
  {
   "cell_type": "code",
   "execution_count": null,
   "id": "02b56891",
   "metadata": {},
   "outputs": [],
   "source": [
    "from af2seq import GradientDesign"
   ]
  },
  {
   "cell_type": "code",
   "execution_count": null,
   "id": "999b1b73",
   "metadata": {},
   "outputs": [],
   "source": [
    "target = 'path/to/target'"
   ]
  },
  {
   "cell_type": "markdown",
   "id": "399a2c57",
   "metadata": {},
   "source": [
    "# Gradient based design"
   ]
  },
  {
   "cell_type": "code",
   "execution_count": null,
   "id": "bb7cba13",
   "metadata": {
    "scrolled": true
   },
   "outputs": [],
   "source": [
    "# Assign the class\n",
    "d = GradientDesign(datadir='path/to/weights',output_path='path/to/output/directory')"
   ]
  },
  {
   "cell_type": "code",
   "execution_count": null,
   "id": "e4e3ab75",
   "metadata": {},
   "outputs": [],
   "source": [
    "# Settings\n",
    "\n",
    "# Set the weights on the loss function\n",
    "loss = {\"fape\": 1.0, \"ptm\": 0.2, \"plddt\": 0.2}\n",
    "\n",
    "# Design settings\n",
    "d.design(target,\n",
    "         start_seq=None,\n",
    "         iterations=500,\n",
    "         lr=1e-3,             # Learning rate to start with (uses ADAM)\n",
    "         chains = None,       # Chains we want to design.\n",
    "         aa_mask=['C'],       # add here which amino acids you wish to mask for updating\n",
    "         fix_pos=None,        # Position mask, give the index of amino acids of the target not to update (only works for ptm model for now!)\n",
    "         recycles=0,          # number of recycles\n",
    "         clampval=0.0,        # weight of the clamping of the FAPE loss.\n",
    "         modeltype='ptm',\n",
    "         mode = 'gd',\n",
    "         loss = loss)"
   ]
  },
  {
   "cell_type": "code",
   "execution_count": null,
   "id": "3ede5882",
   "metadata": {},
   "outputs": [],
   "source": [
    "print(d)"
   ]
  },
  {
   "cell_type": "code",
   "execution_count": null,
   "id": "587659c6",
   "metadata": {},
   "outputs": [],
   "source": [
    "from af2seq import plotting"
   ]
  },
  {
   "cell_type": "code",
   "execution_count": null,
   "id": "3f69f639",
   "metadata": {
    "collapsed": false,
    "jupyter": {
     "outputs_hidden": false
    }
   },
   "outputs": [],
   "source": [
    "plotting.loss_plot(d)"
   ]
  },
  {
   "cell_type": "code",
   "execution_count": null,
   "id": "916ddd2d",
   "metadata": {
    "collapsed": false,
    "jupyter": {
     "outputs_hidden": false
    }
   },
   "outputs": [],
   "source": [
    "plotting.plot_pred(d)"
   ]
  },
  {
   "cell_type": "markdown",
   "id": "916d3aae-c297-4078-8449-239cf896aa77",
   "metadata": {},
   "source": [
    "# Running solubleMPNN example"
   ]
  },
  {
   "cell_type": "markdown",
   "id": "0e061df9-2f52-40ce-8247-a61f247e3353",
   "metadata": {},
   "source": [
    "Run proteinMPNN as you would run normally. However, to use the soluble weights the flag *-use_soluble_model* needs to be added when running *protein_mpnn_run.py*.\n",
    "\n",
    "For more information see: https://github.com/dauparas/ProteinMPNN\n",
    "\n",
    "Example submission script:"
   ]
  },
  {
   "cell_type": "code",
   "execution_count": null,
   "id": "f7e48337-bb2f-4e22-8d6b-a7a9da3ccae9",
   "metadata": {},
   "outputs": [],
   "source": [
    "#!/bin/bash\n",
    "#SBATCH --job-name=mpnn_batch_1.job\n",
    "#SBATCH --cpus-per-task 1\n",
    "#SBATCH --mem 64gb\n",
    "#SBATCH --partition=gpu\n",
    "#SBATCH --qos=gpu\n",
    "#SBATCH --gres=gpu:1\n",
    "#SBATCH -t 1:0:0\n",
    "\n",
    "folder_with_pdbs=\"pdbs\"\n",
    "\n",
    "output_dir=\"outputs\"\n",
    "if [ ! -d $output_dir ]\n",
    "then\n",
    "\t    mkdir -p $output_dir\n",
    "fi\n",
    "\n",
    "\n",
    "path_for_parsed_chains=$output_dir\"/parsed_pdbs.jsonl\"\n",
    "path_for_assigned_chains=$output_dir\"/assigned_pdbs.jsonl\"\n",
    "path_for_fixed_positions=$output_dir\"/fixed_pdbs.jsonl\"\n",
    "\n",
    "chains_to_design=\"A\"\n",
    "fixed_positions=\"1,2,3,4,5,6,7,8,9,10\"\n",
    "\n",
    "python /ProteinMPNN/helper_scripts/parse_multiple_chains.py --input_path=$folder_with_pdbs --output_path=$path_for_parsed_chains\n",
    "\n",
    "python /ProteinMPNN/helper_scripts/make_fixed_positions_dict.py --input_path=$path_for_parsed_chains --output_path=$path_for_fixed_positions --position_list \"$fixed_positions\"\n",
    "\n",
    "python /ProteinMPNN/protein_mpnn_run.py \\\n",
    "\t--jsonl_path $path_for_parsed_chains \\\n",
    "\t--chain_id_jsonl $path_for_assigned_chains \\\n",
    "\t--fixed_positions_jsonl $path_for_fixed_positions \\\n",
    "\t--tied_positions_jsonl $path_for_tied_positions \\\n",
    "\t--out_folder $output_dir \\\n",
    "\t--num_seq_per_target 10 \\\n",
    "\t--sampling_temp \"0.2\" \\\n",
    "\t--seed 37 \\\n",
    "\t--batch_size 1 \\\n",
    "\t--use_soluble_model \\\n",
    "\t--omit_AAs \"XC\" \\\n",
    "\t--model_name \"v_48_020\""
   ]
  }
 ],
 "metadata": {
  "kernelspec": {
   "display_name": "Python 3 (ipykernel)",
   "language": "python",
   "name": "python3"
  },
  "language_info": {
   "codemirror_mode": {
    "name": "ipython",
    "version": 3
   },
   "file_extension": ".py",
   "mimetype": "text/x-python",
   "name": "python",
   "nbconvert_exporter": "python",
   "pygments_lexer": "ipython3",
   "version": "3.10.12"
  }
 },
 "nbformat": 4,
 "nbformat_minor": 5
}
