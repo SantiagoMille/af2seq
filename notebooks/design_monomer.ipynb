{
 "cells": [
  {
   "cell_type": "markdown",
   "id": "37d83ab6",
   "metadata": {},
   "source": [
    "# AF2Seq"
   ]
  },
  {
   "cell_type": "code",
   "execution_count": 1,
   "id": "f2897c10",
   "metadata": {
    "scrolled": false
   },
   "outputs": [
    {
     "name": "stdout",
     "output_type": "stream",
     "text": [
      "zsh:1: command not found: nvidia-smi\r\n"
     ]
    }
   ],
   "source": [
    "!nvidia-smi"
   ]
  },
  {
   "cell_type": "code",
   "execution_count": null,
   "id": "02b56891",
   "metadata": {},
   "outputs": [],
   "source": [
    "from af2seq import GradientDesign"
   ]
  },
  {
   "cell_type": "code",
   "execution_count": null,
   "id": "999b1b73",
   "metadata": {},
   "outputs": [],
   "source": [
    "target = 'path/to/target'\n"
   ]
  },
  {
   "cell_type": "markdown",
   "id": "399a2c57",
   "metadata": {},
   "source": [
    "# Gradient based design"
   ]
  },
  {
   "cell_type": "code",
   "execution_count": null,
   "id": "bb7cba13",
   "metadata": {
    "scrolled": true
   },
   "outputs": [],
   "source": [
    "# Assign the class\n",
    "d = GradientDesign(datadir='path/to/weights',output_path='path/to/output/directory')"
   ]
  },
  {
   "cell_type": "code",
   "execution_count": null,
   "id": "e4e3ab75",
   "metadata": {
    "scrolled": false
   },
   "outputs": [],
   "source": [
    "# Settings\n",
    "\n",
    "# Set the weights on the loss function\n",
    "loss = {\"fape\": 1.0, \"ptm\": 0.2, \"plddt\": 0.2}\n",
    "\n",
    "# Design settings\n",
    "d.design(target,\n",
    "         start_seq=None,\n",
    "         iterations=500,\n",
    "         lr=1e-3,             # Learning rate to start with (uses ADAM)\n",
    "         chains = None,       # Chains we want to design.\n",
    "         aa_mask=['C'],       # add here which amino acids you wish to mask for updating\n",
    "         fix_pos=None,        # Position mask, give the index of amino acids of the target not to update (only works for ptm model for now!)\n",
    "         recycles=0,          # number of recycles\n",
    "         clampval=0.0,        # weight of the clamping of the FAPE loss.\n",
    "         modeltype='ptm',\n",
    "         mode = 'gd',\n",
    "         loss = loss)"
   ]
  },
  {
   "cell_type": "code",
   "execution_count": null,
   "id": "3ede5882",
   "metadata": {},
   "outputs": [],
   "source": [
    "print(d)"
   ]
  },
  {
   "cell_type": "code",
   "execution_count": null,
   "id": "587659c6",
   "metadata": {},
   "outputs": [],
   "source": [
    "from af2seq import plotting"
   ]
  },
  {
   "cell_type": "code",
   "execution_count": null,
   "outputs": [],
   "source": [
    "plotting.loss_plot(d)"
   ],
   "metadata": {
    "collapsed": false
   }
  },
  {
   "cell_type": "code",
   "execution_count": null,
   "outputs": [],
   "source": [
    "plotting.plot_pred(d)"
   ],
   "metadata": {
    "collapsed": false
   }
  }
 ],
 "metadata": {
  "kernelspec": {
   "display_name": "Python 3 (ipykernel)",
   "language": "python",
   "name": "python3"
  },
  "language_info": {
   "codemirror_mode": {
    "name": "ipython",
    "version": 3
   },
   "file_extension": ".py",
   "mimetype": "text/x-python",
   "name": "python",
   "nbconvert_exporter": "python",
   "pygments_lexer": "ipython3",
   "version": "3.8.13"
  }
 },
 "nbformat": 4,
 "nbformat_minor": 5
}
